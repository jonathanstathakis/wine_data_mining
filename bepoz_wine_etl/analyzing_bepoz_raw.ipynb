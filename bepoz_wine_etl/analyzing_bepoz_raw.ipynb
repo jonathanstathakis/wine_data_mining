{
 "cells": [
  {
   "cell_type": "markdown",
   "id": "ac24a896-2747-4539-8926-a3693b3edc76",
   "metadata": {},
   "source": [
    "# Analyzing Raw Bepoz Data\n",
    "\n",
    "To automate a sync between the bepoz databse and wine_wiki, we need to add some translations between the two data models.\n",
    "The most useful source of discriminatory data is the comment field, which contains the full wine name, producer, region, \n",
    "vintage, volume and more. Unfortunately different formats have emerged over time. While an endgoal would be a formalisation\n",
    "and correction of the source data, at the moment we will need to define some translation functions. To do this we need to\n",
    "identify subgroups, seperate them, then define functions which unify the data ready for ingestion into the wine-wiki database.\n",
    "\n",
    "At this time this notebook is not contained within the wine-wiki project and thus integration with the ORM is not possible,\n",
    "so we will focus on unification until we can integrate into that project."
   ]
  },
  {
   "cell_type": "markdown",
   "id": "0c0efffc-b1fb-4220-98a0-f3d798e84c66",
   "metadata": {},
   "source": [
    "## Loading the Data"
   ]
  },
  {
   "cell_type": "code",
   "execution_count": 7,
   "id": "c3687865-2457-42c1-8a4d-0b0bd8e66b89",
   "metadata": {
    "scrolled": true
   },
   "outputs": [
    {
     "data": {
      "text/plain": [
       "┌──────────────────────┬─────────────┬─────────┬─────────┬─────────┬─────────┐\n",
       "│     column_name      │ column_type │  null   │   key   │ default │  extra  │\n",
       "│       varchar        │   varchar   │ varchar │ varchar │ varchar │ varchar │\n",
       "├──────────────────────┼─────────────┼─────────┼─────────┼─────────┼─────────┤\n",
       "│ product_id           │ BIGINT      │ YES     │ NULL    │ NULL    │ NULL    │\n",
       "│ product_name         │ VARCHAR     │ YES     │ NULL    │ NULL    │ NULL    │\n",
       "│ long_name            │ VARCHAR     │ YES     │ NULL    │ NULL    │ NULL    │\n",
       "│ datetime_last_sale   │ VARCHAR     │ YES     │ NULL    │ NULL    │ NULL    │\n",
       "│ qty_onhand           │ DOUBLE      │ YES     │ NULL    │ NULL    │ NULL    │\n",
       "│ _comment             │ VARCHAR     │ YES     │ NULL    │ NULL    │ NULL    │\n",
       "│ normal_size1         │ DOUBLE      │ YES     │ NULL    │ NULL    │ NULL    │\n",
       "│ sunday_pricing_size1 │ DOUBLE      │ YES     │ NULL    │ NULL    │ NULL    │\n",
       "│ public_holiday_size1 │ DOUBLE      │ YES     │ NULL    │ NULL    │ NULL    │\n",
       "│ costinc_last         │ DOUBLE      │ YES     │ NULL    │ NULL    │ NULL    │\n",
       "├──────────────────────┴─────────────┴─────────┴─────────┴─────────┴─────────┤\n",
       "│ 10 rows                                                          6 columns │\n",
       "└────────────────────────────────────────────────────────────────────────────┘"
      ]
     },
     "execution_count": 7,
     "metadata": {},
     "output_type": "execute_result"
    }
   ],
   "source": [
    "import duckdb as db\n",
    "\n",
    "with open(r\"queries/cleaning.sql\", 'r') as f:\n",
    "    query = f.read()\n",
    "    \n",
    "conn = db.connect()\n",
    "conn.sql(query)\n",
    "conn.sql(\"describe bp_raw;\")\n"
   ]
  },
  {
   "cell_type": "markdown",
   "id": "0ae014c2-a40c-4847-bfea-5696cdce5e19",
   "metadata": {},
   "source": [
    "we will focus on the comment field first, using Product Id as the primary key.\n"
   ]
  },
  {
   "cell_type": "markdown",
   "id": "35b7dfec-a0f1-4064-a41d-00aa39d72612",
   "metadata": {},
   "source": [
    "As we can see there are various formats found. We can also see some spelling errors which will need correction."
   ]
  },
  {
   "cell_type": "markdown",
   "id": "dd11f900-f93d-4f6a-ad81-08480ba70bed",
   "metadata": {},
   "source": [
    "## Sorting by Whether Vintage is First or Not\n",
    "\n",
    "An evident discrimnatory factor is whether the string starts with the vintage is first or not.\n",
    "We can do this with regex."
   ]
  },
  {
   "cell_type": "code",
   "execution_count": 5,
   "id": "8a59304f-adb6-4577-b5bb-574c01a51646",
   "metadata": {},
   "outputs": [
    {
     "data": {
      "text/plain": [
       "┌────────────────────────────────────────────────────────────────────────────────────────────────────────────┐\n",
       "│                                                  _comment                                                  │\n",
       "│                                                  varchar                                                   │\n",
       "├────────────────────────────────────────────────────────────────────────────────────────────────────────────┤\n",
       "│ Albert Bichot Domaine Long-Depaquit Chablis Moutonne Grand Cru Monopole Chardonnay 2022 (750ml)            │\n",
       "│ A.Christmann IDIG GG Riesling 2021 (750ml)                                                                 │\n",
       "│ A.Christmann Olberg-Hart GG Riesling 2021 (750ml)                                                          │\n",
       "│ A.Christmann Vogelsang GG Riesling 2021 (750ml)                                                            │\n",
       "│ Arnoud Lambert Cremant De Loire (750ml)                                                                    │\n",
       "│ Domaine André Perret \"Coteau de Chéry\" Condrieu Viognier 2022 (750ml)                                      │\n",
       "│ Antoine Sanzay La Paterne Saumur Champigny 2022 (750ml)                                                    │\n",
       "│ 2017 A&G Fantino. Cascina Dardi 'Bussia'. Barolo. Piemonte. Italy (750ml)                                  │\n",
       "│ Agrapart & Fils terroirs BDB. Bottled: May 2021. Discorged: March 2024 .(750ml)                            │\n",
       "│ AIX rose Provence 2023 (750ml)                                                                             │\n",
       "│               ·                                                                                            │\n",
       "│               ·                                                                                            │\n",
       "│               ·                                                                                            │\n",
       "│ Yeringberg Pinot Noir 2019 (750ml)                                                                         │\n",
       "│ 2021 Yeringberg Marsanne Rousanne (750ml)                                                                  │\n",
       "│ 2021 Yeringberg Shiraz (750ml)                                                                             │\n",
       "│ Yeringberg Cabernet Sauvignon 2022 (750ml)                                                                 │\n",
       "│ Yeringberg Yeringberg Blend. Cabernet Sauvignon. Cabernet Franc. Merlot. Malbec. Petit Verdot 2022 (750ml) │\n",
       "│ Yeringberg Chardonnay 2022 (750ml)                                                                         │\n",
       "│ Yeringberg Shiraz 2022 (750ml)                                                                             │\n",
       "│ 2022 Jintaro Yura 'Albeille et Papillon'. Pinot Blanc (750ml)                                              │\n",
       "│ 2022 Jintaro Yura 'Le Silence et la Resonance' (750ml)                                                     │\n",
       "│ 2022 Jinaro Yura 'La Partie et le Tout' Pinot Noir (750ml)                                                 │\n",
       "├────────────────────────────────────────────────────────────────────────────────────────────────────────────┤\n",
       "│                                            573 rows (20 shown)                                             │\n",
       "└────────────────────────────────────────────────────────────────────────────────────────────────────────────┘"
      ]
     },
     "execution_count": 5,
     "metadata": {},
     "output_type": "execute_result"
    }
   ],
   "source": [
    "conn.sql(r\"select _comment from raw_comment where regexp_matches(_comment, 'ml\\)$');\")\n"
   ]
  },
  {
   "cell_type": "markdown",
   "id": "3ca10aa0-e7f3-4159-99e0-1dce85151e1b",
   "metadata": {},
   "source": [
    "only 656 entries end with 'ml)'. What do the others end with?\n"
   ]
  },
  {
   "cell_type": "code",
   "execution_count": 6,
   "id": "d8d058ab-9fe1-4eca-a530-e50e24095850",
   "metadata": {},
   "outputs": [
    {
     "data": {
      "text/plain": [
       "┌──────────────────────────────────────────────────────────────────────────────────────────────────────┐\n",
       "│                                               _comment                                               │\n",
       "│                                               varchar                                                │\n",
       "├──────────────────────────────────────────────────────────────────────────────────────────────────────┤\n",
       "│ Agrapart Experience Champagne 2012 (750ml).Disgorged 04/2020                                         │\n",
       "│ 2022 Alkina 'Polygon 3'                                                                              │\n",
       "│ Alkina 'Poly 5' 20Gr                                                                                 │\n",
       "│ 2011 Deutz 'Amour de Deutz'. Champagne .Disgorged: 2021                                              │\n",
       "│ Atallah wines Mclaren Vale Shiraz 2022                                                               │\n",
       "│ Bass Phillip Estate Pinot Noir 2018 (750ml).                                                         │\n",
       "│ Ben Haines 'Red'. Shiraz Pinot Noir blend. Limestone Coast. SA                                       │\n",
       "│ NV Bereche & Fils Brut Reserve. (750ml).Base: 2021 .Disgorged: 03/2023                               │\n",
       "│ Best's Great Western Old Vine Pinot Meunier 2020 (750ml).                                            │\n",
       "│ Charles Heidsieck Blanc des Millenaires Champagne 2004 (750ml).Disgorged: 11/2016                    │\n",
       "│                                         ·                                                            │\n",
       "│                                         ·                                                            │\n",
       "│                                         ·                                                            │\n",
       "│ Vouette et Sorbee Blanc d'Argile Blanc de Blancs NV (750ml) .Base: 2018.Disgorged: 11/2020           │\n",
       "│ Vouette et Sorbee Blanc d'Argile Blanc de Blancs NV (750ml).Base: 2019.Disgorged: 10/2022            │\n",
       "│ Vouette et Sorbee NvcpBlanc d'Argile Blanc de Blancs Champagne (750ml).Base: 2020.Disgorged: 10/2023 │\n",
       "│ Vinden Orange 23 Gz                                                                                  │\n",
       "│ Wantirna Estate Isabella Chardonnay 2020 (750ml).                                                    │\n",
       "│ Yarra Yering Agincourt 2022 .Cabernet. Malbec                                                        │\n",
       "│ Yarra Yering Dry Red Wine No 1 (750ml) .Cabernet Blend                                               │\n",
       "│ Yarra Yering Dry Red wine No 2 (750ml) .Shiraz blend                                                 │\n",
       "│ Yalumba The Caley Cabernet Shiraz 2014 (750ml).                                                      │\n",
       "│ Yeringberg  Shiraz 2019 (750ml).                                                                     │\n",
       "├──────────────────────────────────────────────────────────────────────────────────────────────────────┤\n",
       "│                                         153 rows (20 shown)                                          │\n",
       "└──────────────────────────────────────────────────────────────────────────────────────────────────────┘"
      ]
     },
     "execution_count": 6,
     "metadata": {},
     "output_type": "execute_result"
    }
   ],
   "source": [
    "conn.sql(r\"select _comment from raw_comment where not regexp_matches(_comment, 'ml\\)$');\")\n"
   ]
  },
  {
   "cell_type": "markdown",
   "id": "478ce531-282b-4481-be09-a606aaadf309",
   "metadata": {},
   "source": [
    "A mish-mash. We should ignore these for now as they will need to be fixed manually. Although it tooks as though the champagnes will yield to a more sophisticated regex."
   ]
  },
  {
   "cell_type": "code",
   "execution_count": 7,
   "id": "802e7cab-acad-4663-b574-b7deef8ae4de",
   "metadata": {},
   "outputs": [
    {
     "data": {
      "text/plain": [
       "┌────────────┬─────────────────────────────────────────────────────────────────────────────────────────────────┐\n",
       "│ product_id │                                            _comment                                             │\n",
       "│   int64    │                                             varchar                                             │\n",
       "├────────────┼─────────────────────────────────────────────────────────────────────────────────────────────────┤\n",
       "│      31676 │ Albert Bichot Domaine Long-Depaquit Chablis Moutonne Grand Cru Monopole Chardonnay 2022 (750ml) │\n",
       "│      30438 │ A.Christmann IDIG GG Riesling 2021 (750ml)                                                      │\n",
       "│      30437 │ A.Christmann Olberg-Hart GG Riesling 2021 (750ml)                                               │\n",
       "│      30439 │ A.Christmann Vogelsang GG Riesling 2021 (750ml)                                                 │\n",
       "│      31909 │ Arnoud Lambert Cremant De Loire (750ml)                                                         │\n",
       "│      31797 │ Domaine André Perret \"Coteau de Chéry\" Condrieu Viognier 2022 (750ml)                           │\n",
       "│      30259 │ Antoine Sanzay La Paterne Saumur Champigny 2022 (750ml)                                         │\n",
       "│      31708 │ 2017 A&G Fantino. Cascina Dardi 'Bussia'. Barolo. Piemonte. Italy (750ml)                       │\n",
       "│       8613 │ Agrapart Experience Champagne 2012 (750ml).Disgorged 04/2020                                    │\n",
       "│      31549 │ Agrapart & Fils terroirs BDB. Bottled: May 2021. Discorged: March 2024 .(750ml)                 │\n",
       "├────────────┴─────────────────────────────────────────────────────────────────────────────────────────────────┤\n",
       "│ 10 rows                                                                                            2 columns │\n",
       "└──────────────────────────────────────────────────────────────────────────────────────────────────────────────┘"
      ]
     },
     "execution_count": 7,
     "metadata": {},
     "output_type": "execute_result"
    }
   ],
   "source": [
    "conn.sql(\"from raw_comment limit 10\")"
   ]
  },
  {
   "cell_type": "code",
   "execution_count": 8,
   "id": "0b1bec47-2a83-4027-8de5-e6bf74f61c36",
   "metadata": {},
   "outputs": [
    {
     "data": {
      "text/plain": [
       "┌───────────────┐\n",
       "│     name      │\n",
       "│    varchar    │\n",
       "├───────────────┤\n",
       "│ bp_raw        │\n",
       "│ raw_comment   │\n",
       "│ vintage_first │\n",
       "└───────────────┘"
      ]
     },
     "execution_count": 8,
     "metadata": {},
     "output_type": "execute_result"
    }
   ],
   "source": [
    "conn.sql(\"show tables\")"
   ]
  },
  {
   "cell_type": "markdown",
   "id": "601c9c23-ceff-48c3-a9ba-7be8017294bb",
   "metadata": {},
   "source": [
    "## Dividing the Comments into Likes\n",
    "\n",
    "There are a number of different formats of string, some which will require more work than others. To do this we will copy the 'raw_comment' table then move entries from the copy to their own tables, continuing until 'raw_comment_copy' is empty.\n",
    "\n",
    "Cleanup includes removing punctuation and whitespace from the ends of the strings. Stock with 0 qty on hand are also excluded, as they are not immediately pertinant to the wine wiki, and this a useful method of removing meta items such as pairing charges and other special menu items."
   ]
  },
  {
   "cell_type": "code",
   "execution_count": 9,
   "id": "b75681bb-bc7d-4364-84b6-b701688f5029",
   "metadata": {
    "scrolled": true
   },
   "outputs": [
    {
     "data": {
      "text/plain": [
       "┌──────────────┐\n",
       "│ count_star() │\n",
       "│    int64     │\n",
       "├──────────────┤\n",
       "│          725 │\n",
       "└──────────────┘"
      ]
     },
     "metadata": {},
     "output_type": "display_data"
    },
    {
     "data": {
      "text/plain": [
       "┌─────────────┬─────────────┬─────────┬─────────┬─────────┬─────────┐\n",
       "│ column_name │ column_type │  null   │   key   │ default │  extra  │\n",
       "│   varchar   │   varchar   │ varchar │ varchar │ varchar │ varchar │\n",
       "├─────────────┼─────────────┼─────────┼─────────┼─────────┼─────────┤\n",
       "│ _comment    │ VARCHAR     │ YES     │ NULL    │ NULL    │ NULL    │\n",
       "│ product_id  │ BIGINT      │ YES     │ NULL    │ NULL    │ NULL    │\n",
       "└─────────────┴─────────────┴─────────┴─────────┴─────────┴─────────┘"
      ]
     },
     "execution_count": 9,
     "metadata": {},
     "output_type": "execute_result"
    }
   ],
   "source": [
    "display(conn.sql(\"select count(*) from raw_comment_copy;\"))\n",
    "conn.sql(\"describe raw_comment_copy;\")"
   ]
  },
  {
   "cell_type": "markdown",
   "id": "02faac8f-e449-451b-869a-641ce50bfd7d",
   "metadata": {},
   "source": [
    "### Segregating Champagnes"
   ]
  },
  {
   "cell_type": "markdown",
   "id": "20b65f86-91cd-4d88-9a00-9d55db125863",
   "metadata": {},
   "source": [
    "Champagnes are significantly different, as they do not end with the volume."
   ]
  },
  {
   "cell_type": "code",
   "execution_count": 10,
   "id": "134d8a09-0d4b-4aa0-8d42-87611fe8381a",
   "metadata": {},
   "outputs": [
    {
     "data": {
      "text/plain": [
       "┌──────────────┐\n",
       "│ count_star() │\n",
       "│    int64     │\n",
       "├──────────────┤\n",
       "│           77 │\n",
       "└──────────────┘"
      ]
     },
     "execution_count": 10,
     "metadata": {},
     "output_type": "execute_result"
    }
   ],
   "source": [
    "conn.sql(\"select count(*) from champagne;\")"
   ]
  },
  {
   "cell_type": "code",
   "execution_count": 11,
   "id": "533329df-4e35-4b5d-ab95-e9ed5892755b",
   "metadata": {},
   "outputs": [
    {
     "data": {
      "text/plain": [
       "┌──────────────┐\n",
       "│ count_star() │\n",
       "│    int64     │\n",
       "├──────────────┤\n",
       "│          648 │\n",
       "└──────────────┘"
      ]
     },
     "execution_count": 11,
     "metadata": {},
     "output_type": "execute_result"
    }
   ],
   "source": [
    "conn.sql(\"delete from raw_comment_copy where product_id in (select product_id from champagne)\")\n",
    "conn.sql(\"select count(*) from raw_comment_copy;\")"
   ]
  },
  {
   "cell_type": "markdown",
   "id": "22832ab7-5955-492d-abab-49a5a72e7d27",
   "metadata": {},
   "source": [
    "## Building Volume Field\n",
    "\n",
    "As we progress in cleaning up the comment string, important information should be moved into dedicated fields, simplifying the remaining comment string. An easy one is the bottle volume. The majority have \"(750ml)\" in the string, or \"(1500ml)\", but some do not. First we will add a volume field then fill it out, then seperate entries without a standard volume expression to create specialised logic before merging back in."
   ]
  },
  {
   "cell_type": "code",
   "execution_count": null,
   "id": "2d931cfa-faff-4d17-ba87-cebba46f56df",
   "metadata": {},
   "outputs": [],
   "source": []
  },
  {
   "cell_type": "code",
   "execution_count": 12,
   "id": "dc6426ac-b4a5-48bc-b3b5-fc50cc0ac287",
   "metadata": {},
   "outputs": [
    {
     "data": {
      "text/plain": [
       "┌────────────────────────────────────────────────────────────────────────────────────────────────────┬─────────┐\n",
       "│                                            ext_comment                                             │ volume  │\n",
       "│                                              varchar                                               │ varchar │\n",
       "├────────────────────────────────────────────────────────────────────────────────────────────────────┼─────────┤\n",
       "│ Albert Bichot Domaine Long-Depaquit Chablis Moutonne Grand Cru Monopole Chardonnay 2022            │ 750     │\n",
       "│ A.Christmann IDIG GG Riesling 2021                                                                 │ 750     │\n",
       "│ A.Christmann Olberg-Hart GG Riesling 2021                                                          │ 750     │\n",
       "│ A.Christmann Vogelsang GG Riesling 2021                                                            │ 750     │\n",
       "│ Arnoud Lambert Cremant De Loire                                                                    │ 750     │\n",
       "│ Domaine André Perret \"Coteau de Chéry\" Condrieu Viognier 2022                                      │ 750     │\n",
       "│ Antoine Sanzay La Paterne Saumur Champigny 2022                                                    │ 750     │\n",
       "│ 2017 A&G Fantino. Cascina Dardi 'Bussia'. Barolo. Piemonte. Italy                                  │ 750     │\n",
       "│ AIX rose Provence 2023                                                                             │ 750     │\n",
       "│ 2023 Kin by Alkina Grenache                                                                        │ 750     │\n",
       "│            ·                                                                                       │  ·      │\n",
       "│            ·                                                                                       │  ·      │\n",
       "│            ·                                                                                       │  ·      │\n",
       "│ Yeringberg  Shiraz 2019                                                                            │ 750     │\n",
       "│ 2021 Yeringberg Marsanne Rousanne                                                                  │ 750     │\n",
       "│ 2021 Yeringberg Shiraz                                                                             │ 750     │\n",
       "│ Yeringberg Cabernet Sauvignon 2022                                                                 │ 750     │\n",
       "│ Yeringberg Yeringberg Blend. Cabernet Sauvignon. Cabernet Franc. Merlot. Malbec. Petit Verdot 2022 │ 750     │\n",
       "│ Yeringberg Chardonnay 2022                                                                         │ 750     │\n",
       "│ Yeringberg Shiraz 2022                                                                             │ 750     │\n",
       "│ 2022 Jintaro Yura 'Albeille et Papillon'. Pinot Blanc                                              │ 750     │\n",
       "│ 2022 Jintaro Yura 'Le Silence et la Resonance'                                                     │ 750     │\n",
       "│ 2022 Jinaro Yura 'La Partie et le Tout' Pinot Noir                                                 │ 750     │\n",
       "├────────────────────────────────────────────────────────────────────────────────────────────────────┴─────────┤\n",
       "│ 648 rows (20 shown)                                                                                2 columns │\n",
       "└──────────────────────────────────────────────────────────────────────────────────────────────────────────────┘"
      ]
     },
     "execution_count": 12,
     "metadata": {},
     "output_type": "execute_result"
    }
   ],
   "source": [
    "conn.sql(r\"\"\"\n",
    "    select\n",
    "        ext_comment,\n",
    "        volume\n",
    "    from (\n",
    "        with extract_volume as (\n",
    "                select\n",
    "                    unnest(regexp_extract(_comment, '^(.*)\\((\\d{3,4})\\s?(ml)?\\)',['ext_comment','volume'], 'i')),\n",
    "                from\n",
    "                    raw_comment_copy\n",
    "                )\n",
    "        select\n",
    "            ext_comment.trim() as ext_comment,\n",
    "            volume.trim() as volume\n",
    "        from \n",
    "            extract_volume\n",
    "        ) \n",
    "        \"\"\")"
   ]
  },
  {
   "cell_type": "code",
   "execution_count": 18,
   "id": "18c39b8d-9dad-47b9-9f99-6d3f9eb90fe3",
   "metadata": {},
   "outputs": [
    {
     "data": {
      "text/plain": [
       "┌─────────────────────────────────────────────────────────────────────────────────────────────────┬────────────┬─────────────────────────────────────────────────────────────────────────────────────────────────┬─────────┐\n",
       "│                                            _comment                                             │ product_id │                                           ext_comment                                           │ volume  │\n",
       "│                                             varchar                                             │   int64    │                                             varchar                                             │ varchar │\n",
       "├─────────────────────────────────────────────────────────────────────────────────────────────────┼────────────┼─────────────────────────────────────────────────────────────────────────────────────────────────┼─────────┤\n",
       "│ Albert Bichot Domaine Long-Depaquit Chablis Moutonne Grand Cru Monopole Chardonnay 2022 (750ml) │      31676 │ Albert Bichot Domaine Long-Depaquit Chablis Moutonne Grand Cru Monopole Chardonnay 2022 (750ml) │ 750     │\n",
       "│ A.Christmann IDIG GG Riesling 2021 (750ml)                                                      │      30438 │ A.Christmann IDIG GG Riesling 2021 (750ml)                                                      │ 750     │\n",
       "│ A.Christmann Olberg-Hart GG Riesling 2021 (750ml)                                               │      30437 │ A.Christmann Olberg-Hart GG Riesling 2021 (750ml)                                               │ 750     │\n",
       "│ A.Christmann Vogelsang GG Riesling 2021 (750ml)                                                 │      30439 │ A.Christmann Vogelsang GG Riesling 2021 (750ml)                                                 │ 750     │\n",
       "│ Arnoud Lambert Cremant De Loire (750ml)                                                         │      31909 │ Arnoud Lambert Cremant De Loire (750ml)                                                         │ 750     │\n",
       "│ Domaine André Perret \"Coteau de Chéry\" Condrieu Viognier 2022 (750ml)                           │      31797 │ Domaine André Perret \"Coteau de Chéry\" Condrieu Viognier 2022 (750ml)                           │ 750     │\n",
       "│ Antoine Sanzay La Paterne Saumur Champigny 2022 (750ml)                                         │      30259 │ Antoine Sanzay La Paterne Saumur Champigny 2022 (750ml)                                         │ 750     │\n",
       "│ 2017 A&G Fantino. Cascina Dardi 'Bussia'. Barolo. Piemonte. Italy (750ml)                       │      31708 │ 2017 A&G Fantino. Cascina Dardi 'Bussia'. Barolo. Piemonte. Italy (750ml)                       │ 750     │\n",
       "│ AIX rose Provence 2023 (750ml)                                                                  │      30689 │ AIX rose Provence 2023 (750ml)                                                                  │ 750     │\n",
       "│ 2023 Kin by Alkina Grenache (750ml)                                                             │      30970 │ 2023 Kin by Alkina Grenache (750ml)                                                             │ 750     │\n",
       "├─────────────────────────────────────────────────────────────────────────────────────────────────┴────────────┴─────────────────────────────────────────────────────────────────────────────────────────────────┴─────────┤\n",
       "│ 10 rows                                                                                                                                                                                                        4 columns │\n",
       "└──────────────────────────────────────────────────────────────────────────────────────────────────────────────────────────────────────────────────────────────────────────────────────────────────────────────────────────┘"
      ]
     },
     "metadata": {},
     "output_type": "display_data"
    },
    {
     "data": {
      "text/plain": [
       "┌──────────────────────────────────────────────────────────────────────────┬────────────┬──────────────────────────────────────────────────────────────────────────┬─────────┐\n",
       "│                                 _comment                                 │ product_id │                               ext_comment                                │ volume  │\n",
       "│                                 varchar                                  │   int64    │                                 varchar                                  │ varchar │\n",
       "├──────────────────────────────────────────────────────────────────────────┼────────────┼──────────────────────────────────────────────────────────────────────────┼─────────┤\n",
       "│ Joh Jos Prum Graacher Himmelreich Kabinett Riesling 2020 Magnum (1500ml) │      25003 │ Joh Jos Prum Graacher Himmelreich Kabinett Riesling 2020 Magnum (1500ml) │ 1500    │\n",
       "│ Joh Jos Prum Wehlener Sonnenuhr Spatlese Riesling 2020 Magnum (1500ml)   │      25010 │ Joh Jos Prum Wehlener Sonnenuhr Spatlese Riesling 2020 Magnum (1500ml)   │ 1500    │\n",
       "│ Oakridge 2019 864 Chardonnay Magnum (1.5L)                               │      31501 │ Oakridge 2019 864 Chardonnay Magnum (1.5L)                               │ 1500    │\n",
       "│ Stanton Kileen Magnum 07                                                 │      31683 │ Stanton Kileen Magnum 07                                                 │ 1500    │\n",
       "│ Tolpuddle Pinot Noir 2023 Magnum (1500ml)                                │      31771 │ Tolpuddle Pinot Noir 2023 Magnum (1500ml)                                │ 1500    │\n",
       "│ Tolpuddle Magnum Chardonnay 2023 (1500ml)                                │      31306 │ Tolpuddle Magnum Chardonnay 2023 (1500ml)                                │ 1500    │\n",
       "└──────────────────────────────────────────────────────────────────────────┴────────────┴──────────────────────────────────────────────────────────────────────────┴─────────┘"
      ]
     },
     "metadata": {},
     "output_type": "display_data"
    }
   ],
   "source": [
    "conn.sql(r\"\"\"\n",
    "alter table raw_comment_copy add column if not exists ext_comment varchar;\n",
    "alter table raw_comment_copy add column if not exists volume varchar;\n",
    "update raw_comment_copy as a set\n",
    "    ext_comment = b.ext_comment,\n",
    "    volume = b.volume\n",
    "    from \n",
    "    (\n",
    "    select\n",
    "        product_id,\n",
    "        ext_comment.nullif('') as ext_comment,\n",
    "        volume\n",
    "    from (\n",
    "        with extract_volume as (\n",
    "                select\n",
    "                    product_id,\n",
    "                    unnest(regexp_extract(_comment, '^(.*)\\((\\d{3,4}|\\d\\.\\d)\\s?(ml|L)?\\)',['ext_comment','volume'], 'i')),\n",
    "                from\n",
    "                    raw_comment_copy\n",
    "                )\n",
    "        select\n",
    "            product_id,\n",
    "            ext_comment.trim() as ext_comment,\n",
    "            volume.trim() as volume\n",
    "        from \n",
    "            extract_volume\n",
    "        ) \n",
    "    ) as b\n",
    "    where\n",
    "        a.product_id = b.product_id;\n",
    "\n",
    "/*\n",
    "begin brute-force replacements of entries which dont match the above pattern.\n",
    "Coalesce any null ext_comment.\n",
    "*/\n",
    "\n",
    "update\n",
    "    raw_comment_copy as a\n",
    "set\n",
    "    ext_comment = coalesce(_comment, ext_comment);\n",
    "-- aqua santa\n",
    "update raw_comment_copy\n",
    "set volume = 500\n",
    "where regexp_matches(_comment, 'aqua santa','i');\n",
    "\n",
    "-- magnum\n",
    "update\n",
    "    raw_comment_copy\n",
    "set \n",
    "    volume = 1500\n",
    "where\n",
    "    regexp_matches(_comment, 'magnum','i');\n",
    "update\n",
    "    raw_comment_copy as a\n",
    "set\n",
    "    ext_comment = regexp_replace(b.ext_comment, 'magnum', 'i')\n",
    "from\n",
    "    raw_comment_copy as b\n",
    "where\n",
    "    a.product_id = b.product_id;\n",
    "\n",
    "-- all remaining wines are considered to be 750ml\n",
    "update raw_comment_copy\n",
    "set volume = 750 \n",
    "where volume = '';\n",
    "\n",
    "\"\"\")\n",
    "\n",
    "\n",
    "# finally need to coalesce ext_comment with _comment.\n",
    "\n",
    "# conn.sql(\"\"\"\n",
    "\n",
    "# \"\"\")\n",
    "# display(conn.sql(\"select * from raw_comment_copy_vol_extract_success where volume = ''\"))\n",
    "# conn.sql(\"create or replace table raw_comment_copy as select * from raw_comment_copy_vol_extract_success\")\n",
    "display(conn.sql(\"select * from raw_comment_copy limit 10\"))\n",
    "display(conn.sql(\"select * from raw_comment_copy where regexp_matches(_comment, 'magnum','i');\"))"
   ]
  },
  {
   "cell_type": "code",
   "execution_count": null,
   "id": "dc9442a6-d9c6-4772-843c-697aacb526dc",
   "metadata": {},
   "outputs": [],
   "source": []
  },
  {
   "cell_type": "code",
   "execution_count": 14,
   "id": "10560d00-534d-4f23-bb19-e9f97be67e40",
   "metadata": {},
   "outputs": [
    {
     "data": {
      "text/plain": [
       "┌──────────┬────────────┬─────────────┬─────────┐\n",
       "│ _comment │ product_id │ ext_comment │ volume  │\n",
       "│ varchar  │   int64    │   varchar   │ varchar │\n",
       "├──────────┴────────────┴─────────────┴─────────┤\n",
       "│                    0 rows                     │\n",
       "└───────────────────────────────────────────────┘"
      ]
     },
     "execution_count": 14,
     "metadata": {},
     "output_type": "execute_result"
    }
   ],
   "source": [
    "conn.sql(\"select * from raw_comment_copy where _comment = ''\")"
   ]
  },
  {
   "cell_type": "markdown",
   "id": "78a5f1d4-4645-4815-ac44-120fd76ce508",
   "metadata": {},
   "source": [
    "## Extracting Vintage\n",
    "\n",
    "regexp_extract has proven to be very powerful, simplifying the process. Next is to extract the vintages."
   ]
  },
  {
   "cell_type": "code",
   "execution_count": 15,
   "id": "b9d65b8c-bb5f-4bd7-a3f7-347c16d4cd47",
   "metadata": {},
   "outputs": [
    {
     "data": {
      "text/plain": [
       "┌──────────┬────────────┬─────────────┬─────────┐\n",
       "│ _comment │ product_id │ ext_comment │ volume  │\n",
       "│ varchar  │   int64    │   varchar   │ varchar │\n",
       "├──────────┴────────────┴─────────────┴─────────┤\n",
       "│                    0 rows                     │\n",
       "└───────────────────────────────────────────────┘"
      ]
     },
     "execution_count": 15,
     "metadata": {},
     "output_type": "execute_result"
    }
   ],
   "source": [
    "conn.sql(\"select * from raw_comment_copy where ext_comment = ''\")"
   ]
  },
  {
   "cell_type": "code",
   "execution_count": 16,
   "id": "8cd611cb-5d5c-47d6-b77b-528263315431",
   "metadata": {},
   "outputs": [
    {
     "data": {
      "text/plain": [
       "┌────────────┬───────────────┬─────────────┬─────────┐\n",
       "│ product_id │ input_comment │ ext_comment │ vintage │\n",
       "│   int64    │    varchar    │   varchar   │ varchar │\n",
       "├────────────┴───────────────┴─────────────┴─────────┤\n",
       "│                       0 rows                       │\n",
       "└────────────────────────────────────────────────────┘"
      ]
     },
     "execution_count": 16,
     "metadata": {},
     "output_type": "execute_result"
    }
   ],
   "source": [
    "conn.sql(r\"\"\"\n",
    "    with unnested as (\n",
    "        select\n",
    "            product_id,\n",
    "            ext_comment as input_comment,\n",
    "            unnest(regexp_extract(ext_comment, '(.*)(\\d{4})(.*)', ['before','vintage', 'after']))\n",
    "        from\n",
    "            raw_comment_copy\n",
    "        ),\n",
    "    combined as (\n",
    "    select\n",
    "        product_id,\n",
    "        input_comment,\n",
    "        trim(before || ' '|| after) as ext_comment,\n",
    "        trim(vintage) as vintage\n",
    "    from \n",
    "        unnested\n",
    "        ),\n",
    "    coalesced as (\n",
    "        select\n",
    "        product_id,\n",
    "        input_comment,\n",
    "        coalesce(ext_comment.nullif(''), input_comment) as ext_comment,\n",
    "        vintage,\n",
    "        from\n",
    "        combined\n",
    "    )\n",
    "    -- currently 33 entries without an input comment\n",
    "    select\n",
    "        *\n",
    "    from\n",
    "        coalesced\n",
    "    where\n",
    "        ext_comment = ''\n",
    "\"\"\")"
   ]
  },
  {
   "cell_type": "raw",
   "id": "4d44db47-aa87-4023-a7e0-49648deaa152",
   "metadata": {},
   "source": [
    "TODO: figure out how to add default back to the input value if no extraction possible, i.e. code 31909 is left blank..."
   ]
  },
  {
   "cell_type": "code",
   "execution_count": null,
   "id": "73312bb1-9943-400a-94a1-2aea9b125b83",
   "metadata": {},
   "outputs": [],
   "source": []
  },
  {
   "cell_type": "code",
   "execution_count": null,
   "id": "214bfab4-8534-4611-99cc-bb2ecab878ee",
   "metadata": {},
   "outputs": [],
   "source": []
  },
  {
   "cell_type": "code",
   "execution_count": null,
   "id": "648a0996-bbe2-467a-b201-06124342f34b",
   "metadata": {},
   "outputs": [],
   "source": []
  }
 ],
 "metadata": {
  "kernelspec": {
   "display_name": "Python 3 (ipykernel)",
   "language": "python",
   "name": "python3"
  },
  "language_info": {
   "codemirror_mode": {
    "name": "ipython",
    "version": 3
   },
   "file_extension": ".py",
   "mimetype": "text/x-python",
   "name": "python",
   "nbconvert_exporter": "python",
   "pygments_lexer": "ipython3",
   "version": "3.12.2"
  }
 },
 "nbformat": 4,
 "nbformat_minor": 5
}
